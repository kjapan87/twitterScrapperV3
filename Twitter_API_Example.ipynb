{
  "nbformat": 4,
  "nbformat_minor": 0,
  "metadata": {
    "colab": {
      "name": "Twitter_API_Example.ipynb",
      "provenance": [],
      "authorship_tag": "ABX9TyPqahlz5BZmJJvjB6i1YZ/r",
      "include_colab_link": true
    },
    "kernelspec": {
      "name": "python3",
      "display_name": "Python 3"
    }
  },
  "cells": [
    {
      "cell_type": "markdown",
      "metadata": {
        "id": "view-in-github",
        "colab_type": "text"
      },
      "source": [
        "<a href=\"https://colab.research.google.com/github/kjapan87/twitterScrapperV3/blob/main/Twitter_API_Example.ipynb\" target=\"_parent\"><img src=\"https://colab.research.google.com/assets/colab-badge.svg\" alt=\"Open In Colab\"/></a>"
      ]
    },
    {
      "cell_type": "code",
      "metadata": {
        "id": "i5l15QK4w1rD"
      },
      "source": [
        "import tweepy\n",
        "import re\n",
        "import pickle\n",
        "from tweepy import OAuthHandler"
      ],
      "execution_count": null,
      "outputs": []
    },
    {
      "cell_type": "code",
      "metadata": {
        "id": "8raDstkG0uUS"
      },
      "source": [
        "#defining consumer key, consumer secret key, access token, & access secret key\n",
        "API_Key=\"JIPbcWc5R0S8SRStPGlZZbnm1\"\n",
        "API_Secret=\"AjKvkzaV3gfXCDtmIqXQA7xnJw7cOcqOSduDKNJcfm0iHWAnD8\"\n",
        "Access_token=\"1297355455929307141-B7zMppIgesIgDYOHl5fGm1ezDtcIsQ\"\n",
        "Access_token_secret=\"Ys6jj0ZkExqSelDPrgRXLzA1nnlh6FNXnpvuKX5UFQfet\""
      ],
      "execution_count": null,
      "outputs": []
    },
    {
      "cell_type": "code",
      "metadata": {
        "id": "9kvZOASD1twJ"
      },
      "source": [
        "#this step is intializing tokens for clients authentication\n",
        "auth = OAuthHandler(API_Key,API_Secret) #authetication of application \"sentiment_japanese_english_tweet\"\n",
        "auth.set_access_token(Access_token,Access_token_secret) #user authentication"
      ],
      "execution_count": null,
      "outputs": []
    },
    {
      "cell_type": "code",
      "metadata": {
        "id": "kyjO9KoM3IBj"
      },
      "source": [
        "#defining the string\n",
        "args=[\"Trump\",\"Japan\"];\n",
        "api_obj=tweepy.API(auth,timeout=10)"
      ],
      "execution_count": null,
      "outputs": []
    },
    {
      "cell_type": "code",
      "metadata": {
        "id": "zqOE3OkK4fJt"
      },
      "source": [
        "#save the tweets in a list\n",
        "List_Tweets=[]\n",
        "query=args[0]\n",
        "if len(args)==1:\n",
        "  for status in tweepy.Cursor(api_obj.search,q=query+\"-filter:retweets\",lang=\"en\",result_type=\"recent\").items(100):\n",
        "    List_Tweets.append(status.text)\n",
        "  "
      ],
      "execution_count": null,
      "outputs": []
    },
    {
      "cell_type": "code",
      "metadata": {
        "id": "h-JBVY6L7d-r",
        "colab": {
          "base_uri": "https://localhost:8080/",
          "height": 34
        },
        "outputId": "fb987fea-90f5-4225-dfd9-660faf19725f"
      },
      "source": [
        "List_Tweets"
      ],
      "execution_count": null,
      "outputs": [
        {
          "output_type": "execute_result",
          "data": {
            "text/plain": [
              "[]"
            ]
          },
          "metadata": {
            "tags": []
          },
          "execution_count": 12
        }
      ]
    }
  ]
}